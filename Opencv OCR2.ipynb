{
 "cells": [
  {
   "cell_type": "code",
   "execution_count": 43,
   "metadata": {},
   "outputs": [
    {
     "name": "stdout",
     "output_type": "stream",
     "text": [
      "[': 21—04—2017 to Present', 'Duration', 'Functional Area : .Net', ': Software Developer Trainee', 'Designation', ': REDEEMER TECHNOLOGIES PVT LTD', 'Organization', 'PROFESSIONAL EXPERIENCE', 'DEGREE B.TECH (Computer science) 12\" (HSEF) SSLC BOARD/ UNIVERSITY HINDUSTAN COLLEGE OF ENGINEERING. KULATHUPUZHA (KERALA UNIVERSITY) KERALA BOARD / GOV H S S WEST KERALA / GOV H S S WEST YEAR 2012—2016 2012 2010 PERCENTAGE 7.08/10 85 % 94 %', 'EDUCATION', '', '', 'anjusthomas.s39@gmail.com', 'E—mail M', 'CONTACT', '', '8921627925', '', 'ADDRESS', 'SEYON BHAVAN ANAPUZHAKAL, ANCHAL P 0 KOLLAM KERALA PHONE & : C', '', 'Anju S Thomas']\n"
     ]
    }
   ],
   "source": [
    "\n",
    "import cv2\n",
    "import pytesseract\n",
    "import os\n",
    "from PIL import Image\n",
    "import sys\n",
    "import numpy as np\n",
    "import textacy\n",
    "import time\n",
    "\n",
    "image = cv2.imread('image\\\\0001 (1).jpg')\n",
    "gray = cv2.cvtColor(image,cv2.COLOR_BGR2GRAY)\n",
    "#cv2.imshow('gray',gray)\n",
    "\n",
    "_,thresh = cv2.threshold(gray,150,255,cv2.THRESH_BINARY_INV) # threshold\n",
    "kernel = cv2.getStructuringElement(cv2.MORPH_CROSS,(4,4))\n",
    "dilated = cv2.dilate(thresh,kernel,iterations = 20)\n",
    "\n",
    "contours, hierarchy = cv2.findContours(dilated,cv2.RETR_EXTERNAL,cv2.CHAIN_APPROX_NONE)\n",
    "my_list = []\n",
    "for contour in contours:\n",
    "    [x,y,w,h] = cv2.boundingRect(contour)\n",
    "    # if h<40 or w<40:\n",
    "    #     continue\n",
    "    cv2.rectangle(image,(x,y),(x+w,y+h),(225,0,255),1)\n",
    "    new_image = image[y:y+h, x:x+w]\n",
    "    # Recognize text with tesseract for python\n",
    "    result = pytesseract.image_to_string(new_image)\n",
    "    result=textacy.preprocess.remove_punct(result,marks=' \\n \\uf0b7 \\uf076 \\uf020 \\uf0a7 ___ \\uf0d8 \\uf0fc \\uf028 \\uf07d \\uf0e0 \\uf095 \\uf0e1 \\u200b')\n",
    "    #print(result)\n",
    "    #adding it to an array\n",
    "    my_list.append(result)\n",
    "    \n",
    "print(my_list)   \n"
   ]
  },
  {
   "cell_type": "code",
   "execution_count": null,
   "metadata": {},
   "outputs": [],
   "source": []
  },
  {
   "cell_type": "markdown",
   "metadata": {},
   "source": [
    "## Passing each contours to OCR"
   ]
  },
  {
   "cell_type": "code",
   "execution_count": 11,
   "metadata": {},
   "outputs": [
    {
     "name": "stdout",
     "output_type": "stream",
     "text": [
      "PROFESSIONAL EXPERIENCE\n"
     ]
    },
    {
     "data": {
      "text/plain": [
       "<function destroyAllWindows>"
      ]
     },
     "execution_count": 11,
     "metadata": {},
     "output_type": "execute_result"
    }
   ],
   "source": [
    "import cv2\n",
    "import pytesseract\n",
    "import os\n",
    "from PIL import Image\n",
    "import sys\n",
    "import numpy as np\n",
    "import textacy\n",
    "\n",
    "image = cv2.imread('image\\\\0001 (1).jpg')\n",
    "\n",
    "gray = cv2.cvtColor(image,cv2.COLOR_BGR2GRAY) # grayscale\n",
    "_,thresh = cv2.threshold(gray,150,255,cv2.THRESH_BINARY_INV) # threshold\n",
    "kernel = cv2.getStructuringElement(cv2.MORPH_CROSS,(4,4))\n",
    "dilated = cv2.dilate(thresh,kernel,iterations = 20) # dilate\n",
    "contours, hierarchy = cv2.findContours(dilated,cv2.RETR_EXTERNAL,cv2.CHAIN_APPROX_NONE) # get contours\n",
    "\n",
    "#Saving each contours as a jpg file\n",
    "contour=contours[7]\n",
    "[x,y,w,h] = cv2.boundingRect(contour)\n",
    "cv2.rectangle(image,(x,y),(x+w,y+h),(125,0,255),5)\n",
    "new_image = image[y:y+h, x:x+w]\n",
    "z=cv2.imwrite(\"contour.jpg\",new_image)\n",
    "\n",
    "result = pytesseract.image_to_string(Image.open(\"contour.jpg\"))\n",
    "#os.remove(\"contour.jpg\")\n",
    "result=textacy.preprocess.remove_punct(result,marks=' \\n \\uf0b7 \\uf076 \\uf020 \\uf0a7 ___ \\uf0d8 \\uf0fc \\uf028 \\uf07d \\uf0e0 \\uf095 \\uf0e1 \\u200b')\n",
    "print(result)\n",
    "    \n",
    "cv2.waitKey(0)\n",
    "cv2.destroyAllWindows"
   ]
  },
  {
   "cell_type": "markdown",
   "metadata": {},
   "source": [
    "## Opencv Ocr"
   ]
  },
  {
   "cell_type": "code",
   "execution_count": 15,
   "metadata": {},
   "outputs": [
    {
     "name": "stdout",
     "output_type": "stream",
     "text": [
      "X Dp CONTACT (%] jinujoseph186@gmail.com 7994234292 9745337684 Edasseriath (h), Chozhiyakadu, Channannikkadu P O Kottayam,686533 OBJECTIVE | want to grow with a reputed company where i can effectively contribute my software skills as professional. KEY SKILLS e NumPy and SciPy library in Python e MS Excel e Efficient in making decision using decision trees in python EDUCATION MASTER OF COMPUTER APPLICATION (71.28 %) Marian College Kuttikkanam(Autonomous) 2016-2018 BACHELOR OF COMPUTER APPLICATION (68%) Bishop Speechly College,Pallom 2013-2016 TECHNICAL EXPERTISE Programming: Python, R, JAVA,PHP,C, C++ Database: XAAMP,MYSQL HTML,CSS MS Power Point ,MS Excel,MS Word, ACADEMIC PROJECTS Churn Analysis In Telecom Industry Language Used:Python Online Banking Technology used: ASP.NET , Database: MYSQL Online Recruitment Site Language used: PHP, HTML, Database: XAAMP Mobile Shop Management System Language used: Visual Basic\n"
     ]
    },
    {
     "data": {
      "text/plain": [
       "<function destroyAllWindows>"
      ]
     },
     "execution_count": 15,
     "metadata": {},
     "output_type": "execute_result"
    }
   ],
   "source": [
    "import cv2\n",
    "\n",
    "image = cv2.imread('image\\\\1.jpg')\n",
    "\n",
    "#image = cv2.resize(img  , (2880 , 5120))\n",
    "\n",
    "gray = cv2.cvtColor(image,cv2.COLOR_BGR2GRAY) # grayscale\n",
    "_,thresh = cv2.threshold(gray,150,255,cv2.THRESH_BINARY) # threshold\n",
    "kernel = cv2.getStructuringElement(cv2.MORPH_CROSS,(4,4))\n",
    "dilated = cv2.dilate(thresh,kernel,iterations = 20) # dilate\n",
    "contours, hierarchy = cv2.findContours(dilated,cv2.RETR_EXTERNAL,cv2.CHAIN_APPROX_NONE) # get contours\n",
    "\n",
    "# for each contour found, draw a rectangle around it on original image\n",
    "for contour in contours:\n",
    "    # get rectangle bounding contour\n",
    "    [x,y,w,h] = cv2.boundingRect(contour)\n",
    "\n",
    "    z=cv2.rectangle(thresh,(x,y),(x+w,y+h),(255,0,255),1)\n",
    "    #write original image with added contours to disk\n",
    "    cv2.imwrite('OCRData.jpg', z)\n",
    "\n",
    "\n",
    "#result = pytesseract.image_to_string(Image.open(\"OCRData.jpg\"))\n",
    "#os.remove(\"contour.jpg\")\n",
    "result = pytesseract.image_to_string(z)\n",
    "result=textacy.preprocess.remove_punct(result,marks=' \\n \\uf0b7 \\uf076 \\uf020 \\uf0a7 ___ \\uf0d8 \\uf0fc \\uf028 \\uf07d \\uf0e0 \\uf095 \\uf0e1 \\u200b')\n",
    "print(result)    \n",
    "cv2.waitKey(0)\n",
    "cv2.destroyAllWindows"
   ]
  },
  {
   "cell_type": "code",
   "execution_count": 4,
   "metadata": {
    "scrolled": false
   },
   "outputs": [
    {
     "name": "stdout",
     "output_type": "stream",
     "text": [
      "SREERAG S PILLAI Enthusiastic and deeply desired to work in a challenging environment to expand my knowledge and skills.I see this as a opportunity to be industry trained and to enhance company's growth and reputation. Personal Info Address SRUTHI VIHAR Nanniyode, Thiruvananthapuram KERALA Phone 91-8606145610 E-mail steeragsp40@gmail.com Date of birth 08 February 1995 eS Pe Additional Activi Education 2014- 2018 2013 2011 College Of Engineering Kottarakkara B.Tech in Computer Science. Under Cochin University of Science and Technology. CGPA-6.9 Plus Two at Darsana HSS Nedumangad Passed with 92% SSLC at Darsana HSS Nedumangad Passed with 95% Technical Skills Knowledge in Programming Langauges C,C++,JAVA Web Development Languages: PHP JAVASCRIPT AJAX , JQUERY BOOTSTRAP Leadership quality Quick learner and problem solver Team building Flexibility and Adaptibility Interpersonal skills Ss CEO of IEDC unit in College(Part of Kerala Startup Mission) Organised Startup aiding events;fablab visits, |dea pitching etc Active member of NSS unit in college. Competed in state level for project presentation(plus two) Organised workshops on behalf of college placement unit Pe Languages Malayalam English Hindi Tamil | here by declare that the details furnished above are true to the best of my knowledge. 23/07/2018\n"
     ]
    }
   ],
   "source": [
    "import pytesseract\n",
    "import os\n",
    "from PIL import Image\n",
    "import sys\n",
    "import numpy as np\n",
    "import textacy\n",
    "\n",
    "\n",
    "result = pytesseract.image_to_string(Image.open(\"Image dataset\\\\1.jpg\"))\n",
    "result=textacy.preprocess.remove_punct(result,marks=' \\n \\uf0b7 \\uf076 \\uf020 \\uf0a7 ___ \\uf0d8 \\uf0fc \\uf028 \\uf07d \\uf0e0 \\uf095 \\uf0e1 \\u200b')\n",
    "print(result)"
   ]
  },
  {
   "cell_type": "code",
   "execution_count": null,
   "metadata": {},
   "outputs": [],
   "source": []
  }
 ],
 "metadata": {
  "kernelspec": {
   "display_name": "Python 3",
   "language": "python",
   "name": "python3"
  },
  "language_info": {
   "codemirror_mode": {
    "name": "ipython",
    "version": 3
   },
   "file_extension": ".py",
   "mimetype": "text/x-python",
   "name": "python",
   "nbconvert_exporter": "python",
   "pygments_lexer": "ipython3",
   "version": "3.6.8"
  }
 },
 "nbformat": 4,
 "nbformat_minor": 2
}
