{
 "cells": [
  {
   "cell_type": "code",
   "execution_count": 2,
   "metadata": {},
   "outputs": [],
   "source": [
    "import numpy as np"
   ]
  },
  {
   "cell_type": "code",
   "execution_count": 1,
   "metadata": {},
   "outputs": [],
   "source": [
    "\n",
    "import cv2\n",
    "import os\n",
    "image = cv2.imread('o-1.png')\n",
    "gray = cv2.cvtColor(image,cv2.COLOR_BGR2GRAY)\n",
    "#cv2.imshow('gray',gray)\n",
    "\n",
    "_,thresh = cv2.threshold(gray,150,255,cv2.THRESH_BINARY_INV) # threshold\n",
    "kernel = cv2.getStructuringElement(cv2.MORPH_CROSS,(4,4))\n",
    "dilated = cv2.dilate(thresh,kernel,iterations = 20)\n",
    "\n",
    "contours, hierarchy = cv2.findContours(dilated,cv2.RETR_EXTERNAL,cv2.CHAIN_APPROX_NONE)\n",
    "\n",
    "\n",
    "# for each contour found, draw a rectangle around it on original image\n",
    "for contour in contours:\n",
    "# get rectangle bounding contour\n",
    "    [x,y,w,h] = cv2.boundingRect(contour)\n",
    "# discard areas that are too large\n",
    "#     if h>600 and w>600:\n",
    "#         continue\n",
    "\n",
    "# discard areas that are too small\n",
    "    if h<40 or w<40:\n",
    "        continue\n",
    "\n",
    "# draw rectangle around contour on original image\n",
    "    cv2.rectangle(image,(x,y),(x+w,y+h),(255,0,255),2)\n",
    "\n",
    "# write original image with added contours to disk\n",
    "    cv2.imwrite('contoured50.jpg', image)"
   ]
  },
  {
   "cell_type": "code",
   "execution_count": null,
   "metadata": {},
   "outputs": [],
   "source": []
  },
  {
   "cell_type": "code",
   "execution_count": 21,
   "metadata": {},
   "outputs": [
    {
     "name": "stdout",
     "output_type": "stream",
     "text": [
      "<class 'str'>\n"
     ]
    },
    {
     "data": {
      "text/plain": [
       "'| se o. Nee uOSUces Confereace soom feooman e pevennass Foa ust nvitces o css es Ee e ty e td ol es ust torics Lo Msroe ts ue aconecld Pn escl 6 oo i Een mss es expecrations Wiemmii Mess ESeute (eoee sutcemes ce otne esn C o en C ts P oc nc |rorcow us peche rerort ces P t eseed that cootd mt atond moinsous mt es Esls en 2 m e'"
      ]
     },
     "execution_count": 21,
     "metadata": {},
     "output_type": "execute_result"
    }
   ],
   "source": [
    "import cv2\n",
    "import pytesseract\n",
    "import os\n",
    "from PIL import Image\n",
    "import sys\n",
    "import numpy as np\n",
    "import textacy\n",
    "\n",
    "def get_string(img_path):\n",
    "    # Read image with opencv\n",
    "    img = cv2.imread(img_path)\n",
    "\n",
    "    # Convert to gray\n",
    "    img = cv2.cvtColor(img, cv2.COLOR_BGR2GRAY)\n",
    "    _,thresh = cv2.threshold(img,150,255,cv2.THRESH_BINARY_INV) # threshold\n",
    "    # Apply dilation and erosion to remove some noise\n",
    "    kernel = np.ones((1, 1), np.uint8)\n",
    "#     img = cv2.dilate(img, kernel, iterations=1)\n",
    "#     img = cv2.erode(img, kernel, iterations=1)\n",
    "\n",
    "    # Write the image after apply opencv to do some ...\n",
    "    cv2.imwrite(\"thres.png\", thresh)\n",
    "    # Recognize text with tesseract for python\n",
    "#     result = pytesseract.image_to_string(Image.open(\"thres.png\"))\n",
    "    result = pytesseract.image_to_string(Image.open(\"thres.png\"))\n",
    "    print(type(result))\n",
    "#     os.remove(\"thres.png\")\n",
    "    result=textacy.preprocess.remove_punct(result,marks=' \\n \\uf0b7 \\uf076 \\uf020 \\uf0a7 ___ \\uf0d8 \\uf0fc \\uf028 \\uf07d \\uf0e0 \\uf095 \\uf0e1 \\u200b')\n",
    "\n",
    "    return result\n",
    "\n",
    "\n",
    "get_string(\"C://Users//jinu.j//Documents//Extract//image//data.jpg\")"
   ]
  },
  {
   "cell_type": "code",
   "execution_count": null,
   "metadata": {},
   "outputs": [],
   "source": []
  },
  {
   "cell_type": "code",
   "execution_count": null,
   "metadata": {},
   "outputs": [],
   "source": []
  },
  {
   "cell_type": "code",
   "execution_count": null,
   "metadata": {},
   "outputs": [],
   "source": []
  },
  {
   "cell_type": "code",
   "execution_count": null,
   "metadata": {},
   "outputs": [],
   "source": [
    "\n"
   ]
  },
  {
   "cell_type": "markdown",
   "metadata": {},
   "source": [
    "# Identifying  person image"
   ]
  },
  {
   "cell_type": "code",
   "execution_count": null,
   "metadata": {},
   "outputs": [],
   "source": [
    "import cv2\n",
    "import os\n",
    "image = cv2.imread('o-1.png')\n",
    "gray = cv2.cvtColor(image,cv2.COLOR_BGR2GRAY)\n",
    "\n",
    "_,thresh = cv2.threshold(gray,150,255,cv2.THRESH_BINARY_INV) # threshold\n",
    "kernel = cv2.getStructuringElement(cv2.MORPH_CROSS,(1,1))\n",
    "dilated = cv2.dilate(thresh,kernel,iterations = 20)\n",
    "# cv2.imwrite(\"new2.jpg\",dilated)\n",
    "contours, hierarchy = cv2.findContours(dilated,cv2.RETR_EXTERNAL,cv2.CHAIN_APPROX_NONE)\n",
    "\n",
    "# #Saving each contours as a jpg file\n",
    "contour=contours[2]\n",
    "[x,y,w,h] = cv2.boundingRect(contour)\n",
    "# if h<40 or w<40:\n",
    "#     continue\n",
    "cv2.rectangle(image,(x,y),(x+w,y+h),(125,0,255),5)\n",
    "new_image = image[y:y+h, x:x+w]\n",
    "cv2.imwrite(\"new22.jpg\",new_image)\n",
    "\n",
    "# Performing in all contours value\n",
    "\n",
    "for contour in contours:\n",
    "    [x,y,w,h] = cv2.boundingRect(contour)    \n",
    "#     if h<40 or w<40:\n",
    "#         continue\n",
    "    z=cv2.rectangle(image,(x,y),(x+w,y+h),(125,0,255),4) \n",
    "    cv2.imwrite(\"new2.jpg\",z)\n",
    "    \n",
    "cv2.waitKey(0)\n",
    "cv2.destroyAllWindows()"
   ]
  },
  {
   "cell_type": "code",
   "execution_count": null,
   "metadata": {},
   "outputs": [],
   "source": []
  },
  {
   "cell_type": "code",
   "execution_count": 3,
   "metadata": {},
   "outputs": [
    {
     "name": "stdout",
     "output_type": "stream",
     "text": [
      "True\n"
     ]
    },
    {
     "data": {
      "text/plain": [
       "<function destroyAllWindows>"
      ]
     },
     "execution_count": 3,
     "metadata": {},
     "output_type": "execute_result"
    }
   ],
   "source": [
    "import cv2\n",
    "\n",
    "image = cv2.imread('o-1.png')\n",
    "\n",
    "gray = cv2.cvtColor(image,cv2.COLOR_BGR2GRAY) # grayscale\n",
    "_,thresh = cv2.threshold(gray,150,255,cv2.THRESH_BINARY_INV) # threshold\n",
    "kernel = cv2.getStructuringElement(cv2.MORPH_CROSS,(4,4))\n",
    "dilated = cv2.dilate(thresh,kernel,iterations = 20) # dilate\n",
    "contours, hierarchy = cv2.findContours(dilated,cv2.RETR_EXTERNAL,cv2.CHAIN_APPROX_NONE) # get contours\n",
    "\n",
    "#Saving each contours as a jpg file\n",
    "contour=contours[7]\n",
    "[x,y,w,h] = cv2.boundingRect(contour)\n",
    "# if h<40 or w<40:\n",
    "#     continue\n",
    "cv2.rectangle(image,(x,y),(x+w,y+h),(125,0,255),5)\n",
    "new_image = image[y:y+h, x:x+w]\n",
    "z=cv2.imwrite(\"contour.jpg\",new_image)\n",
    "print(z)\n",
    "\n",
    "\n",
    "\n",
    "# for each contour found, draw a rectangle around it on original image\n",
    "for contour in contours:\n",
    "# get rectangle bounding contour\n",
    "    [x,y,w,h] = cv2.boundingRect(contour)\n",
    "# discard areas that are too large\n",
    "#     if h>600 and w>600:\n",
    "#         continue\n",
    "\n",
    "# discard areas that are too small\n",
    "    if h<20 or w<20:\n",
    "        continue\n",
    "\n",
    "# draw rectangle around contour on original image\n",
    "    cv2.rectangle(image,(x,y),(x+w,y+h),(255,0,255),2)\n",
    "\n",
    "#write original image with added contours to disk\n",
    "    cv2.imwrite('IamgesC.jpg', image)\n",
    "    \n",
    "cv2.waitKey(0)\n",
    "cv2.destroyAllWindows"
   ]
  },
  {
   "cell_type": "code",
   "execution_count": null,
   "metadata": {},
   "outputs": [],
   "source": []
  }
 ],
 "metadata": {
  "kernelspec": {
   "display_name": "Python 3",
   "language": "python",
   "name": "python3"
  },
  "language_info": {
   "codemirror_mode": {
    "name": "ipython",
    "version": 3
   },
   "file_extension": ".py",
   "mimetype": "text/x-python",
   "name": "python",
   "nbconvert_exporter": "python",
   "pygments_lexer": "ipython3",
   "version": "3.6.9"
  }
 },
 "nbformat": 4,
 "nbformat_minor": 2
}
