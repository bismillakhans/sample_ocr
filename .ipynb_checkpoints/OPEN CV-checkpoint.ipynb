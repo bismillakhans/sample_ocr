{
 "cells": [
  {
   "cell_type": "code",
   "execution_count": 1,
   "metadata": {},
   "outputs": [],
   "source": [
    "# import cv2\n",
    "# import numpy as np\n",
    "# from wand.image import Image as wi\n",
    "# pdf = wi(filename=\"NeethuD_Resume.pdf\", resolution=300)\n",
    "# pdfimage = pdf.convert(\"jpg\")\n",
    "# i=1\n",
    "# for img in pdfimage.sequence:\n",
    "#     page = wi(image=img)\n",
    "#     page.save(filename=str(i)+\".jpg\")\n",
    "#     i +=1\n",
    "#     small = cv2.cvtColor(page, cv2.COLOR_BGR2GRAY)\n",
    "#     kernel = cv2.getStructuringElement(cv2.MORPH_ELLIPSE, (3, 3))\n",
    "#     grad = cv2.morphologyEx(small, cv2.MORPH_GRADIENT, kernel)\n",
    "#     _, connected = cv2.threshold(grad, 0.0, 255.0, cv2.THRESH_BINARY | cv2.THRESH_OTSU)\n",
    "#     contours, hierarchy = cv2.findContours(connected.copy(), cv2.RETR_EXTERNAL, cv2.CHAIN_APPROX_NONE)\n",
    "\n",
    "#     mask = np.zeros(connected.shape, dtype=np.uint8)\n",
    "\n",
    "#     for idx in range(len(contours)):\n",
    "#         x, y, w, h = cv2.boundingRect(contours[idx])\n",
    "#         mask[y:y+h, x:x+w] = 0\n",
    "#         cv2.drawContours(mask, contours, idx, (255, 255, 255), -1)\n",
    "#         r = float(cv2.countNonZero(mask[y:y+h, x:x+w])) / (w * h)\n",
    "\n",
    "#         if r > 0.45 and w > 8 and h > 8:\n",
    "#             cv2.rectangle(rgb, (x, y), (x+w-1, y+h-1), (0, 255, 0), 2)\n",
    "\n",
    "#         cv2.imwrite('12.jpg',rgb)\n",
    "# #cv2.imshow('rects', rgb)"
   ]
  },
  {
   "cell_type": "code",
   "execution_count": 1,
   "metadata": {},
   "outputs": [
    {
     "ename": "NameError",
     "evalue": "name 'rgb' is not defined",
     "output_type": "error",
     "traceback": [
      "\u001b[1;31m---------------------------------------------------------------------------\u001b[0m",
      "\u001b[1;31mNameError\u001b[0m                                 Traceback (most recent call last)",
      "\u001b[1;32m<ipython-input-1-39146351f518>\u001b[0m in \u001b[0;36m<module>\u001b[1;34m\u001b[0m\n\u001b[0;32m     21\u001b[0m \u001b[1;33m\u001b[0m\u001b[0m\n\u001b[0;32m     22\u001b[0m         \u001b[1;32mif\u001b[0m \u001b[0mr\u001b[0m \u001b[1;33m>\u001b[0m \u001b[1;36m0.45\u001b[0m \u001b[1;32mand\u001b[0m \u001b[0mw\u001b[0m \u001b[1;33m>\u001b[0m \u001b[1;36m8\u001b[0m \u001b[1;32mand\u001b[0m \u001b[0mh\u001b[0m \u001b[1;33m>\u001b[0m \u001b[1;36m8\u001b[0m\u001b[1;33m:\u001b[0m\u001b[1;33m\u001b[0m\u001b[0m\n\u001b[1;32m---> 23\u001b[1;33m             \u001b[0mcv2\u001b[0m\u001b[1;33m.\u001b[0m\u001b[0mrectangle\u001b[0m\u001b[1;33m(\u001b[0m\u001b[0mrgb\u001b[0m\u001b[1;33m,\u001b[0m \u001b[1;33m(\u001b[0m\u001b[0mx\u001b[0m\u001b[1;33m,\u001b[0m \u001b[0my\u001b[0m\u001b[1;33m)\u001b[0m\u001b[1;33m,\u001b[0m \u001b[1;33m(\u001b[0m\u001b[0mx\u001b[0m\u001b[1;33m+\u001b[0m\u001b[0mw\u001b[0m\u001b[1;33m-\u001b[0m\u001b[1;36m1\u001b[0m\u001b[1;33m,\u001b[0m \u001b[0my\u001b[0m\u001b[1;33m+\u001b[0m\u001b[0mh\u001b[0m\u001b[1;33m-\u001b[0m\u001b[1;36m1\u001b[0m\u001b[1;33m)\u001b[0m\u001b[1;33m,\u001b[0m \u001b[1;33m(\u001b[0m\u001b[1;36m0\u001b[0m\u001b[1;33m,\u001b[0m \u001b[1;36m255\u001b[0m\u001b[1;33m,\u001b[0m \u001b[1;36m0\u001b[0m\u001b[1;33m)\u001b[0m\u001b[1;33m,\u001b[0m \u001b[1;36m2\u001b[0m\u001b[1;33m)\u001b[0m\u001b[1;33m\u001b[0m\u001b[0m\n\u001b[0m\u001b[0;32m     24\u001b[0m \u001b[1;33m\u001b[0m\u001b[0m\n\u001b[0;32m     25\u001b[0m         \u001b[0mcv2\u001b[0m\u001b[1;33m.\u001b[0m\u001b[0mimwrite\u001b[0m\u001b[1;33m(\u001b[0m\u001b[1;34m'112.jpg'\u001b[0m\u001b[1;33m,\u001b[0m\u001b[0mrgb\u001b[0m\u001b[1;33m)\u001b[0m\u001b[1;33m\u001b[0m\u001b[0m\n",
      "\u001b[1;31mNameError\u001b[0m: name 'rgb' is not defined"
     ]
    }
   ],
   "source": [
    "import glob\n",
    "import cv2\n",
    "import numpy as np\n",
    "cv_img = []\n",
    "for img in glob.glob(\"image/*.jpg\"):\n",
    "    im= cv2.imread(img)\n",
    "    gray = cv2.cvtColor(im,cv2.COLOR_BGR2GRAY)\n",
    "    #cv2.imshow('gray',gray)\n",
    "    _,thresh = cv2.threshold(gray,150,255,cv2.THRESH_BINARY_INV) # threshold\n",
    "    kernel = cv2.getStructuringElement(cv2.MORPH_CROSS,(5,5))\n",
    "    dilated = cv2.dilate(thresh,kernel,iterations = 13)\n",
    "\n",
    "    contours, hierarchy = cv2.findContours(dilated,cv2.RETR_EXTERNAL,cv2.CHAIN_APPROX_NONE)\n",
    "    mask = np.zeros(thresh.shape, dtype=np.uint8)\n",
    "\n",
    "    for idx in range(len(contours)):\n",
    "        x, y, w, h = cv2.boundingRect(contours[idx])\n",
    "        mask[y:y+h, x:x+w] = 0\n",
    "        cv2.drawContours(mask, contours, idx, (255, 255, 255), -1)\n",
    "        r = float(cv2.countNonZero(mask[y:y+h, x:x+w])) / (w * h)\n",
    "\n",
    "        if r > 0.45 and w > 8 and h > 8:\n",
    "            cv2.rectangle(rgb, (x, y), (x+w-1, y+h-1), (0, 255, 0), 2)\n",
    "\n",
    "        cv2.imwrite('112.jpg',rgb)\n",
    "    cv2.waitKey(0)\n",
    "    cv2.destroyAllWindows"
   ]
  },
  {
   "cell_type": "code",
   "execution_count": null,
   "metadata": {},
   "outputs": [],
   "source": []
  },
  {
   "cell_type": "code",
   "execution_count": null,
   "metadata": {},
   "outputs": [],
   "source": []
  }
 ],
 "metadata": {
  "kernelspec": {
   "display_name": "Python 3",
   "language": "python",
   "name": "python3"
  },
  "language_info": {
   "codemirror_mode": {
    "name": "ipython",
    "version": 3
   },
   "file_extension": ".py",
   "mimetype": "text/x-python",
   "name": "python",
   "nbconvert_exporter": "python",
   "pygments_lexer": "ipython3",
   "version": "3.6.9"
  }
 },
 "nbformat": 4,
 "nbformat_minor": 2
}
